{
 "cells": [
  {
   "cell_type": "markdown",
   "metadata": {},
   "source": [
    "# Week 12 Quiz\n",
    "\n",
    "## [Name] - [UNI]\n",
    "\n",
    "### Due Tues December 6th, 11:59pm ET\n",
    "\n",
    "In this quiz, we're going to gather some financial data from an external source and practice performing a few time series tranformations with visualizations.\n",
    "\n",
    "### Instructions\n",
    "\n",
    "Replace the Name and UNI in cell above and the notebook filename\n",
    "\n",
    "Replace all '____' below using the instructions provided.\n",
    "\n",
    "When completed, \n",
    " 1. make sure you've replaced Name and UNI in the first cell and filename\n",
    " 2. Kernel -> Restart & Run All to run all cells in order \n",
    " 3. Print Preview -> Print (Landscape Layout) -> Save to pdf \n",
    " 4. post pdf to GradeScope"
   ]
  },
  {
   "cell_type": "markdown",
   "metadata": {},
   "source": [
    "### Setup Environment"
   ]
  },
  {
   "cell_type": "code",
   "execution_count": null,
   "metadata": {},
   "outputs": [],
   "source": [
    "import numpy as np\n",
    "import pandas as pd\n",
    "import matplotlib.pyplot as plt\n",
    "import seaborn as sns\n",
    "\n",
    "sns.set_style('whitegrid')\n",
    "\n",
    "%matplotlib inline"
   ]
  },
  {
   "cell_type": "markdown",
   "metadata": {},
   "source": [
    "## Gather Data"
   ]
  },
  {
   "cell_type": "code",
   "execution_count": null,
   "metadata": {},
   "outputs": [],
   "source": [
    "# The pandas_datareader package provides access to many different data api's \n",
    "#   including financial sources such as yahoo and quandl, as well as economic data from the World Bank.\n",
    "# For more info see: https://pandas-datareader.readthedocs.io/en/latest/remote_data.html\n",
    "#\n",
    "# Note that name of the package when installing is 'pandas-datareader' with a hyphen,\n",
    "#   while the package name when importing is 'pandas_datareader' with an underscore.\n",
    "\n",
    "# From 'pandas_datareader' import the 'data' module\n",
    "____\n",
    "\n",
    "# We're going to load daily stock price information for Disney which has the ticker symbol 'DIS'.\n",
    "# We only look at stock prices for the year 2022.\n",
    "# We'll do this using the data.DataReader object from pandas_datareader.\n",
    "# The first positional argument to data.DataReader is the name of the data we're looking for.\n",
    "#    In this case it is the string 'DIS'.\n",
    "# We also need to specify:\n",
    "#    start='1/1/2022',\n",
    "#    end='12/31/2022',\n",
    "#    data_source='yahoo'\n",
    "# The data-structure returned by DataReader is a dataframe.\n",
    "# Store this result as df\n",
    "____\n",
    "\n",
    "# Print .info() for df and note the range of the index\n",
    "____"
   ]
  },
  {
   "cell_type": "markdown",
   "metadata": {},
   "source": [
    "## Set Frequency"
   ]
  },
  {
   "cell_type": "code",
   "execution_count": null,
   "metadata": {},
   "outputs": [],
   "source": [
    "# Initially there is no frequency associated with the datetime index of df.\n",
    "# To check this, we can look at the .freq attribute of the index\n",
    "\n",
    "print(df.index.freq)"
   ]
  },
  {
   "cell_type": "code",
   "execution_count": null,
   "metadata": {},
   "outputs": [],
   "source": [
    "# While the original data is by business day, with missing holidays, \n",
    "#  we're going to set the frequency to \"Day\" to practice filling missing data.\n",
    "# Use the .resample() and .asfreq() functions, with frequency string 'D'.\n",
    "# Store the resulting dataframe as df_D.\n",
    "____\n",
    "\n",
    "# Print the .freq of the index of df_D to check that it has the correct frequency (<Day>)\n",
    "____"
   ]
  },
  {
   "cell_type": "markdown",
   "metadata": {},
   "source": [
    "## Plot Closing Price"
   ]
  },
  {
   "cell_type": "code",
   "execution_count": null,
   "metadata": {},
   "outputs": [],
   "source": [
    "# The Closing price of a stock is the price of that stock at the close of the trading day. \n",
    "# The Adjusted Closing price factors in things such as dividends and stock splits.\n",
    "# For this period, these prices are the same, so we'll just use Close.\n",
    "\n",
    "# Generate a lineplot of the daily Close column of df_D in a figure of size (12,4)\n",
    "____"
   ]
  },
  {
   "cell_type": "markdown",
   "metadata": {},
   "source": [
    "# Fill Missing Data"
   ]
  },
  {
   "cell_type": "code",
   "execution_count": null,
   "metadata": {},
   "outputs": [],
   "source": [
    "# Note that we're missing data on weekends and holidays.\n",
    "# For example, Jan 8th is missing data.\n",
    "# Display the first 8 rows of df_D to show some missing data.\n",
    "____"
   ]
  },
  {
   "cell_type": "code",
   "execution_count": null,
   "metadata": {},
   "outputs": [],
   "source": [
    "# Forward fill the missing data using .ffill()\n",
    "# Store the result as df_D_filled\n",
    "____\n",
    "\n",
    "# Confirm that df_D_filled has been forward filled by displaying the first 8 rows.\n",
    "____"
   ]
  },
  {
   "cell_type": "code",
   "execution_count": null,
   "metadata": {},
   "outputs": [],
   "source": [
    "# Generate a lineplot of Close again in a figure of size (12,4), this time from df_D_filled\n",
    "# Note that there are no longer any gaps\n",
    "____"
   ]
  },
  {
   "cell_type": "markdown",
   "metadata": {},
   "source": [
    "## Calculate and Plot Percentage Change of Closing"
   ]
  },
  {
   "cell_type": "code",
   "execution_count": null,
   "metadata": {},
   "outputs": [],
   "source": [
    "# Using the data in df_D_filled, calculate the daily percentage change of Close \n",
    "#    and store in df_D_filled as a new column 'Close_pctchange'\n",
    "____\n",
    "\n",
    "# Generate a lineplot of Close_pctchange in a figure of size (12,4)\n",
    "____"
   ]
  },
  {
   "cell_type": "markdown",
   "metadata": {},
   "source": [
    "## Summarize Data Using Rolling Window"
   ]
  },
  {
   "cell_type": "code",
   "execution_count": null,
   "metadata": {},
   "outputs": [],
   "source": [
    "# To help visualize the data, create a plot that smooths \n",
    "#    Close_pctchange data over time using a rolling window.\n",
    "\n",
    "# First create a rolling window object on df_D_filled.Close_pctchange\n",
    "#   Use window=7, center=True, win_type=None (default, all points equally weighted)\n",
    "# Store in variable rolling_pctchange\n",
    "____\n",
    "\n",
    "# Take the rolling mean and store in variable rolling_pctchange_mean\n",
    "____\n",
    "\n",
    "# Generate a lineplot of rolling_pctchange_mean on a plot of size (12,4)\n",
    "____"
   ]
  },
  {
   "cell_type": "markdown",
   "metadata": {},
   "source": [
    "## Zoom In On October and November"
   ]
  },
  {
   "cell_type": "code",
   "execution_count": null,
   "metadata": {
    "scrolled": true
   },
   "outputs": [],
   "source": [
    "# There should be a large negative spike\n",
    "# Let's zoom in here.\n",
    "\n",
    "# Create a new plot (size 12,4) of df_D_filled.Close_pctchange (not rolling) \n",
    "#   include only the data points in October and November (Hint: use .loc['2022-10':'2022-11'])\n",
    "____"
   ]
  },
  {
   "cell_type": "code",
   "execution_count": null,
   "metadata": {},
   "outputs": [],
   "source": [
    "# We can use the .idxmin() function to print the index of the row corresponding to the maximum value in a series.\n",
    "# Use .idxmin()to print the date corresponding to the minimum Close_pctchange in November 2022.\n",
    "# It should correspond with the spike seen in the plot above.\n",
    "____"
   ]
  }
 ],
 "metadata": {
  "kernelspec": {
   "display_name": "eods-f22",
   "language": "python",
   "name": "eods-f22"
  },
  "language_info": {
   "codemirror_mode": {
    "name": "ipython",
    "version": 3
   },
   "file_extension": ".py",
   "mimetype": "text/x-python",
   "name": "python",
   "nbconvert_exporter": "python",
   "pygments_lexer": "ipython3",
   "version": "3.10.6"
  },
  "toc": {
   "base_numbering": 1,
   "nav_menu": {},
   "number_sections": false,
   "sideBar": true,
   "skip_h1_title": false,
   "title_cell": "Table of Contents",
   "title_sidebar": "Contents",
   "toc_cell": false,
   "toc_position": {},
   "toc_section_display": true,
   "toc_window_display": false
  }
 },
 "nbformat": 4,
 "nbformat_minor": 2
}
