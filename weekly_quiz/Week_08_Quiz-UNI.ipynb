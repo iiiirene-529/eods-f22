{
 "cells": [
  {
   "cell_type": "markdown",
   "metadata": {
    "slideshow": {
     "slide_type": "slide"
    }
   },
   "source": [
    "# Week 8 Quiz\n",
    "\n",
    "## [Chenxi Jiang] - [cj2706]\n",
    "\n",
    "### Due Tues. Nov 1st, 11:59pm ET\n",
    "\n",
    "In this quiz we'll practice some data transformations.\n",
    "\n",
    "### Instructions\n",
    "\n",
    "Replace the Name and UNI in cell above and the notebook filename\n",
    "\n",
    "Replace all '____' below using the instructions provided.\n",
    "\n",
    "When completed, \n",
    " 1. make sure you've replaced Name and UNI in the first cell and filename\n",
    " 2. Kernel -> Restart & Run All to run all cells in order \n",
    " 3. Print Preview -> Print (Landscape Layout) -> Save to pdf \n",
    " 4. post pdf to GradeScope"
   ]
  },
  {
   "cell_type": "code",
   "execution_count": 1,
   "metadata": {},
   "outputs": [],
   "source": [
    "# import numpy as np and pandas as pd\n",
    "import numpy as np\n",
    "import pandas as pd"
   ]
  },
  {
   "cell_type": "code",
   "execution_count": 2,
   "metadata": {
    "scrolled": true
   },
   "outputs": [
    {
     "name": "stdout",
     "output_type": "stream",
     "text": [
      "<class 'pandas.core.frame.DataFrame'>\n",
      "RangeIndex: 500 entries, 0 to 499\n",
      "Data columns (total 3 columns):\n",
      " #   Column        Non-Null Count  Dtype         \n",
      "---  ------        --------------  -----         \n",
      " 0   DocumentDate  500 non-null    datetime64[ns]\n",
      " 1   PropertyType  478 non-null    object        \n",
      " 2   SqFtLot       489 non-null    float64       \n",
      "dtypes: datetime64[ns](1), float64(1), object(1)\n",
      "memory usage: 11.8+ KB\n"
     ]
    }
   ],
   "source": [
    "# Read in data from data/week8_housing_data.csv and store as dataframe df.\n",
    "#   This data includes a datetime column DocumentDate. \n",
    "#   Use parse_dates to parse this column into datetimes\n",
    "#   Print df.info() to see the number of rows, column names, column datatypes and amount of missing data.\n",
    "df = pd.read_csv('../data/week8_housing_data.csv',parse_dates=['DocumentDate'])\n",
    "df.info()"
   ]
  },
  {
   "cell_type": "code",
   "execution_count": 3,
   "metadata": {},
   "outputs": [
    {
     "name": "stdout",
     "output_type": "stream",
     "text": [
      "0      False\n",
      "1      False\n",
      "2      False\n",
      "3      False\n",
      "4      False\n",
      "       ...  \n",
      "495    False\n",
      "496    False\n",
      "497    False\n",
      "498    False\n",
      "499    False\n",
      "Length: 500, dtype: bool\n",
      "3\n"
     ]
    }
   ],
   "source": [
    "# If we run df.duplicated() we get a vector of booleans that indicate duplicated rows.\n",
    "# Use df.duplicated() with default values and .sum() to assert that there are 9 duplicated rows\n",
    "print(df.duplicated())\n",
    "print(df.duplicated().sum())\n",
    "assert df.duplicated().sum() == 3"
   ]
  },
  {
   "cell_type": "code",
   "execution_count": 4,
   "metadata": {},
   "outputs": [],
   "source": [
    "# Use drop_duplicates() to drop the duplicated rows.\n",
    "#   Compare the entire row (subset=None) and keep the first duplicate (keep='first') (the defaults)\n",
    "# Store back into df\n",
    "df = df.drop_duplicates(subset = None, keep = 'first', inplace = True)\n",
    "# Confirm that the correct number of rows have been dropped\n",
    "assert df.shape[0] == 497"
   ]
  },
  {
   "cell_type": "code",
   "execution_count": 5,
   "metadata": {},
   "outputs": [
    {
     "data": {
      "text/html": [
       "<div>\n",
       "<style scoped>\n",
       "    .dataframe tbody tr th:only-of-type {\n",
       "        vertical-align: middle;\n",
       "    }\n",
       "\n",
       "    .dataframe tbody tr th {\n",
       "        vertical-align: top;\n",
       "    }\n",
       "\n",
       "    .dataframe thead th {\n",
       "        text-align: right;\n",
       "    }\n",
       "</style>\n",
       "<table border=\"1\" class=\"dataframe\">\n",
       "  <thead>\n",
       "    <tr style=\"text-align: right;\">\n",
       "      <th></th>\n",
       "      <th>DocumentDate</th>\n",
       "      <th>PropertyType</th>\n",
       "      <th>SqFtLot</th>\n",
       "    </tr>\n",
       "  </thead>\n",
       "  <tbody>\n",
       "    <tr>\n",
       "      <th>0</th>\n",
       "      <td>2006-11-21</td>\n",
       "      <td>Single Family</td>\n",
       "      <td>NaN</td>\n",
       "    </tr>\n",
       "    <tr>\n",
       "      <th>1</th>\n",
       "      <td>2007-04-16</td>\n",
       "      <td>Townhouse</td>\n",
       "      <td>937.0</td>\n",
       "    </tr>\n",
       "    <tr>\n",
       "      <th>2</th>\n",
       "      <td>2006-01-18</td>\n",
       "      <td>NaN</td>\n",
       "      <td>13167.0</td>\n",
       "    </tr>\n",
       "  </tbody>\n",
       "</table>\n",
       "</div>"
      ],
      "text/plain": [
       "  DocumentDate   PropertyType  SqFtLot\n",
       "0   2006-11-21  Single Family      NaN\n",
       "1   2007-04-16      Townhouse    937.0\n",
       "2   2006-01-18            NaN  13167.0"
      ]
     },
     "execution_count": 5,
     "metadata": {},
     "output_type": "execute_result"
    }
   ],
   "source": [
    "# Before continuing, note the is a missing SqFtLot in the first row\n",
    "df.head(3)"
   ]
  },
  {
   "cell_type": "code",
   "execution_count": 6,
   "metadata": {},
   "outputs": [],
   "source": [
    "# From the .info() above, we see there are missing values in SqFtLot.\n",
    "#   Before we fill this column, create a new dummy column 'SqFtLot_missing' in df.\n",
    "#   This column should contain integers, 1 for missing, 0 for not missing.\n",
    "# Use .isna() and .astype(int) to create the 'SqFtLot_missing' column.\n",
    "df['SqFtLot_missing'] = df['SqFtLot'].isna().astype(int)\n",
    "\n",
    "# Assert that the number of 1's in the SqFtLot_missing column equals the number of missing values in SqFtLot\n",
    "assert df['SqFtLot'].isna().sum() == df['SqFtLot_missing'].sum()\n",
    "\n",
    "# Assert that the dtype of SqFtLot_missing is int\n",
    "assert df.SqFtLot_missing.dtype == int"
   ]
  },
  {
   "cell_type": "code",
   "execution_count": 7,
   "metadata": {},
   "outputs": [],
   "source": [
    "# Now fill the missing values in df.SqFtLot with the mean of the SqFtLot column.\n",
    "#   Use .fillna() and .mean()\n",
    "# Store back into the existing SqFtLot column.\n",
    "df['SqFtLot'] = df.SqFtLot.fillna(df.SqFtLot.mean())\n",
    "\n",
    "# Assert that the SqFtLot column no longer contains any missing values (number of missing values == 0)\n",
    "assert df.SqFtLot.isna().sum() == 0"
   ]
  },
  {
   "cell_type": "code",
   "execution_count": 8,
   "metadata": {},
   "outputs": [
    {
     "data": {
      "text/html": [
       "<div>\n",
       "<style scoped>\n",
       "    .dataframe tbody tr th:only-of-type {\n",
       "        vertical-align: middle;\n",
       "    }\n",
       "\n",
       "    .dataframe tbody tr th {\n",
       "        vertical-align: top;\n",
       "    }\n",
       "\n",
       "    .dataframe thead th {\n",
       "        text-align: right;\n",
       "    }\n",
       "</style>\n",
       "<table border=\"1\" class=\"dataframe\">\n",
       "  <thead>\n",
       "    <tr style=\"text-align: right;\">\n",
       "      <th></th>\n",
       "      <th>DocumentDate</th>\n",
       "      <th>PropertyType</th>\n",
       "      <th>SqFtLot</th>\n",
       "      <th>SqFtLot_missing</th>\n",
       "    </tr>\n",
       "  </thead>\n",
       "  <tbody>\n",
       "    <tr>\n",
       "      <th>0</th>\n",
       "      <td>2006-11-21</td>\n",
       "      <td>Single Family</td>\n",
       "      <td>13801.04321</td>\n",
       "      <td>1</td>\n",
       "    </tr>\n",
       "    <tr>\n",
       "      <th>1</th>\n",
       "      <td>2007-04-16</td>\n",
       "      <td>Townhouse</td>\n",
       "      <td>937.00000</td>\n",
       "      <td>0</td>\n",
       "    </tr>\n",
       "    <tr>\n",
       "      <th>2</th>\n",
       "      <td>2006-01-18</td>\n",
       "      <td>NaN</td>\n",
       "      <td>13167.00000</td>\n",
       "      <td>0</td>\n",
       "    </tr>\n",
       "  </tbody>\n",
       "</table>\n",
       "</div>"
      ],
      "text/plain": [
       "  DocumentDate   PropertyType      SqFtLot  SqFtLot_missing\n",
       "0   2006-11-21  Single Family  13801.04321                1\n",
       "1   2007-04-16      Townhouse    937.00000                0\n",
       "2   2006-01-18            NaN  13167.00000                0"
      ]
     },
     "execution_count": 8,
     "metadata": {},
     "output_type": "execute_result"
    }
   ],
   "source": [
    "# The missing SqFtLot should now be filled\n",
    "df.head(3)"
   ]
  },
  {
   "cell_type": "code",
   "execution_count": 9,
   "metadata": {},
   "outputs": [
    {
     "data": {
      "text/plain": [
       "Single Family    455\n",
       "MISSING           22\n",
       "Townhouse         12\n",
       "Multiplex          8\n",
       "Name: PropertyType, dtype: int64"
      ]
     },
     "execution_count": 9,
     "metadata": {},
     "output_type": "execute_result"
    }
   ],
   "source": [
    "# There are also missing values in PropertyType.\n",
    "#   Since 'PropertyType' is categorical, let's treat MISSING as another category.\n",
    "#   Fill the empty values in PropertyType with the string 'MISSING'.\n",
    "# Store back into the existing PropertyType column.\n",
    "df[\"PropertyType\"] = df.PropertyType.fillna(\"MISSING\",inplace = True)\n",
    "\n",
    "# Call .value_counts() on the PropertyType column \n",
    "#   to see how many of each category exist in the dataframe.\n",
    "# We should see 22 MISSING values\n",
    "df.PropertyType.value_counts()"
   ]
  },
  {
   "cell_type": "code",
   "execution_count": 10,
   "metadata": {},
   "outputs": [
    {
     "name": "stdout",
     "output_type": "stream",
     "text": [
      "<class 'pandas.core.frame.DataFrame'>\n",
      "Int64Index: 497 entries, 0 to 499\n",
      "Data columns (total 4 columns):\n",
      " #   Column           Non-Null Count  Dtype         \n",
      "---  ------           --------------  -----         \n",
      " 0   DocumentDate     497 non-null    datetime64[ns]\n",
      " 1   PropertyType     497 non-null    object        \n",
      " 2   SqFtLot          497 non-null    float64       \n",
      " 3   SqFtLot_missing  497 non-null    int64         \n",
      "dtypes: datetime64[ns](1), float64(1), int64(1), object(1)\n",
      "memory usage: 19.4+ KB\n"
     ]
    }
   ],
   "source": [
    "# Confirm we have no missing data by asserting that the sum of df.isna() over rows and columns is equal to 0.\n",
    "assert df.isna().sum().sum() == 0\n",
    "\n",
    "# Print df.info() to visualy confirm there are no missing values as well\n",
    "df.info()"
   ]
  },
  {
   "cell_type": "code",
   "execution_count": 11,
   "metadata": {},
   "outputs": [
    {
     "data": {
      "text/html": [
       "<div>\n",
       "<style scoped>\n",
       "    .dataframe tbody tr th:only-of-type {\n",
       "        vertical-align: middle;\n",
       "    }\n",
       "\n",
       "    .dataframe tbody tr th {\n",
       "        vertical-align: top;\n",
       "    }\n",
       "\n",
       "    .dataframe thead th {\n",
       "        text-align: right;\n",
       "    }\n",
       "</style>\n",
       "<table border=\"1\" class=\"dataframe\">\n",
       "  <thead>\n",
       "    <tr style=\"text-align: right;\">\n",
       "      <th></th>\n",
       "      <th>DocumentDate</th>\n",
       "      <th>PropertyType</th>\n",
       "      <th>SqFtLot</th>\n",
       "      <th>SqFtLot_missing</th>\n",
       "    </tr>\n",
       "  </thead>\n",
       "  <tbody>\n",
       "    <tr>\n",
       "      <th>0</th>\n",
       "      <td>2006-11-21</td>\n",
       "      <td>Single Family</td>\n",
       "      <td>13801.04321</td>\n",
       "      <td>1</td>\n",
       "    </tr>\n",
       "    <tr>\n",
       "      <th>1</th>\n",
       "      <td>2007-04-16</td>\n",
       "      <td>Townhouse</td>\n",
       "      <td>937.00000</td>\n",
       "      <td>0</td>\n",
       "    </tr>\n",
       "    <tr>\n",
       "      <th>2</th>\n",
       "      <td>2006-01-18</td>\n",
       "      <td>MISSING</td>\n",
       "      <td>13167.00000</td>\n",
       "      <td>0</td>\n",
       "    </tr>\n",
       "  </tbody>\n",
       "</table>\n",
       "</div>"
      ],
      "text/plain": [
       "  DocumentDate   PropertyType      SqFtLot  SqFtLot_missing\n",
       "0   2006-11-21  Single Family  13801.04321                1\n",
       "1   2007-04-16      Townhouse    937.00000                0\n",
       "2   2006-01-18        MISSING  13167.00000                0"
      ]
     },
     "execution_count": 11,
     "metadata": {},
     "output_type": "execute_result"
    }
   ],
   "source": [
    "# Before we one hot enocode PropertyType, print the first 3 rows of df and note their PropertyType values\n",
    "df.head(3)"
   ]
  },
  {
   "cell_type": "code",
   "execution_count": 12,
   "metadata": {},
   "outputs": [
    {
     "data": {
      "text/html": [
       "<div>\n",
       "<style scoped>\n",
       "    .dataframe tbody tr th:only-of-type {\n",
       "        vertical-align: middle;\n",
       "    }\n",
       "\n",
       "    .dataframe tbody tr th {\n",
       "        vertical-align: top;\n",
       "    }\n",
       "\n",
       "    .dataframe thead th {\n",
       "        text-align: right;\n",
       "    }\n",
       "</style>\n",
       "<table border=\"1\" class=\"dataframe\">\n",
       "  <thead>\n",
       "    <tr style=\"text-align: right;\">\n",
       "      <th></th>\n",
       "      <th>DocumentDate</th>\n",
       "      <th>SqFtLot</th>\n",
       "      <th>SqFtLot_missing</th>\n",
       "      <th>PropertyType_MISSING</th>\n",
       "      <th>PropertyType_Multiplex</th>\n",
       "      <th>PropertyType_Single Family</th>\n",
       "      <th>PropertyType_Townhouse</th>\n",
       "    </tr>\n",
       "  </thead>\n",
       "  <tbody>\n",
       "    <tr>\n",
       "      <th>0</th>\n",
       "      <td>2006-11-21</td>\n",
       "      <td>13801.04321</td>\n",
       "      <td>1</td>\n",
       "      <td>0</td>\n",
       "      <td>0</td>\n",
       "      <td>1</td>\n",
       "      <td>0</td>\n",
       "    </tr>\n",
       "    <tr>\n",
       "      <th>1</th>\n",
       "      <td>2007-04-16</td>\n",
       "      <td>937.00000</td>\n",
       "      <td>0</td>\n",
       "      <td>0</td>\n",
       "      <td>0</td>\n",
       "      <td>0</td>\n",
       "      <td>1</td>\n",
       "    </tr>\n",
       "    <tr>\n",
       "      <th>2</th>\n",
       "      <td>2006-01-18</td>\n",
       "      <td>13167.00000</td>\n",
       "      <td>0</td>\n",
       "      <td>1</td>\n",
       "      <td>0</td>\n",
       "      <td>0</td>\n",
       "      <td>0</td>\n",
       "    </tr>\n",
       "  </tbody>\n",
       "</table>\n",
       "</div>"
      ],
      "text/plain": [
       "  DocumentDate      SqFtLot  SqFtLot_missing  PropertyType_MISSING  \\\n",
       "0   2006-11-21  13801.04321                1                     0   \n",
       "1   2007-04-16    937.00000                0                     0   \n",
       "2   2006-01-18  13167.00000                0                     1   \n",
       "\n",
       "   PropertyType_Multiplex  PropertyType_Single Family  PropertyType_Townhouse  \n",
       "0                       0                           1                       0  \n",
       "1                       0                           0                       1  \n",
       "2                       0                           0                       0  "
      ]
     },
     "execution_count": 12,
     "metadata": {},
     "output_type": "execute_result"
    }
   ],
   "source": [
    "# Transform the categorical feature PropertyType using pd.get_dummies().\n",
    "#   Note that we can call get_dummies on the entire dataframe and only categorical features will be transformed.\n",
    "# Store the result of get_dummies into df_new\n",
    "df_new = pd.get_dummies(df)\n",
    "\n",
    "# Print out the first 3 rows of df_new to see the result.\n",
    "df_new.head(3)"
   ]
  },
  {
   "cell_type": "code",
   "execution_count": null,
   "metadata": {},
   "outputs": [],
   "source": []
  }
 ],
 "metadata": {
  "kernelspec": {
   "display_name": "eods-f22",
   "language": "python",
   "name": "eods-f22"
  },
  "language_info": {
   "codemirror_mode": {
    "name": "ipython",
    "version": 3
   },
   "file_extension": ".py",
   "mimetype": "text/x-python",
   "name": "python",
   "nbconvert_exporter": "python",
   "pygments_lexer": "ipython3",
   "version": "3.10.6"
  },
  "toc": {
   "base_numbering": 1,
   "nav_menu": {},
   "number_sections": false,
   "sideBar": true,
   "skip_h1_title": false,
   "title_cell": "Table of Contents",
   "title_sidebar": "Contents",
   "toc_cell": false,
   "toc_position": {},
   "toc_section_display": true,
   "toc_window_display": false
  }
 },
 "nbformat": 4,
 "nbformat_minor": 2
}
